{
  "cells": [
    {
      "cell_type": "markdown",
      "metadata": {},
      "source": [
        "# \ud83e\udd16 Modelado y Evaluaci\u00f3n del Proyecto: Clasificaci\u00f3n del Estado Laboral\n",
        "\n",
        "Este notebook corresponde a la tercera entrega del proyecto de Aprendizaje Autom\u00e1tico. En \u00e9l se entrena y eval\u00faa un modelo de clasificaci\u00f3n sobre datos de la Encuesta Permanente de Hogares (EPH) del INDEC para predecir la condici\u00f3n laboral."
      ]
    },
    {
      "cell_type": "code",
      "execution_count": null,
      "metadata": {},
      "outputs": [],
      "source": [
        "# \ud83d\udce6 Carga de librer\u00edas\n",
        "import pandas as pd\n",
        "import numpy as np\n",
        "from sklearn.model_selection import train_test_split\n",
        "from sklearn.linear_model import LogisticRegression\n",
        "from sklearn.metrics import accuracy_score, precision_score, recall_score, f1_score, confusion_matrix, ConfusionMatrixDisplay\n",
        "import matplotlib.pyplot as plt\n",
        "import seaborn as sns\n",
        "sns.set(style='whitegrid')"
      ]
    },
    {
      "cell_type": "markdown",
      "metadata": {},
      "source": [
        "## \ud83d\udcc1 Carga del dataset"
      ]
    },
    {
      "cell_type": "code",
      "execution_count": null,
      "metadata": {},
      "outputs": [],
      "source": [
        "# Cargar el dataset limpio desde data/processed/\n",
        "df = pd.read_csv('../data/processed/EPH_T123_filtrado_procesado.csv')\n",
        "df.head()"
      ]
    },
    {
      "cell_type": "markdown",
      "metadata": {},
      "source": [
        "## \ud83d\udd04 Preprocesamiento final"
      ]
    },
    {
      "cell_type": "code",
      "execution_count": null,
      "metadata": {},
      "outputs": [],
      "source": [
        "# Separar X e y\n",
        "X = df.drop(columns='target')\n",
        "y = df['target']\n",
        "\n",
        "# Codificar variables categ\u00f3ricas\n",
        "X = pd.get_dummies(X, drop_first=True)\n",
        "\n",
        "# Divisi\u00f3n train/test\n",
        "X_train, X_test, y_train, y_test = train_test_split(X, y, test_size=0.2, random_state=42)"
      ]
    },
    {
      "cell_type": "markdown",
      "metadata": {},
      "source": [
        "## \ud83d\udd0d Entrenamiento: Regresi\u00f3n Log\u00edstica"
      ]
    },
    {
      "cell_type": "code",
      "execution_count": null,
      "metadata": {},
      "outputs": [],
      "source": [
        "# Entrenar modelo\n",
        "model = LogisticRegression(max_iter=1000, class_weight='balanced')\n",
        "model.fit(X_train, y_train)"
      ]
    },
    {
      "cell_type": "markdown",
      "metadata": {},
      "source": [
        "## \ud83d\udcca Evaluaci\u00f3n del modelo"
      ]
    },
    {
      "cell_type": "code",
      "execution_count": null,
      "metadata": {},
      "outputs": [],
      "source": [
        "# Predicciones\n",
        "y_pred = model.predict(X_test)\n",
        "\n",
        "# M\u00e9tricas\n",
        "print(\"Accuracy:\", accuracy_score(y_test, y_pred))\n",
        "print(\"Precision:\", precision_score(y_test, y_pred))\n",
        "print(\"Recall:\", recall_score(y_test, y_pred))\n",
        "print(\"F1-score:\", f1_score(y_test, y_pred))"
      ]
    },
    {
      "cell_type": "code",
      "execution_count": null,
      "metadata": {},
      "outputs": [],
      "source": [
        "# Matriz de confusi\u00f3n\n",
        "cm = confusion_matrix(y_test, y_pred)\n",
        "disp = ConfusionMatrixDisplay(confusion_matrix=cm, display_labels=['Desocupado', 'Ocupado'])\n",
        "disp.plot(cmap=plt.cm.Blues)\n",
        "plt.title('Matriz de Confusi\u00f3n')\n",
        "plt.show()"
      ]
    },
    {
      "cell_type": "markdown",
      "metadata": {},
      "source": [
        "## \ud83d\udccc Conclusiones\n",
        "\n",
        "- El modelo de regresi\u00f3n log\u00edstica permite predecir la condici\u00f3n laboral con m\u00e9tricas aceptables considerando el desbalance.\n",
        "- Las variables sociodemogr\u00e1ficas como edad, sexo y nivel educativo muestran relaci\u00f3n con el estado laboral.\n",
        "- Se pueden evaluar otros modelos en el futuro (\u00e1rboles, random forest) para comparar desempe\u00f1o."
      ]
    }
  ],
  "metadata": {
    "kernelspec": {
      "display_name": "Python 3",
      "language": "python",
      "name": "python3"
    },
    "language_info": {
      "name": "python",
      "version": "3.11"
    }
  },
  "nbformat": 4,
  "nbformat_minor": 5
}