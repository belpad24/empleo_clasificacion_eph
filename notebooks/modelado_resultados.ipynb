{
 "cells": [
  {
   "cell_type": "markdown",
   "id": "db7d2aff",
   "metadata": {},
   "source": [
    "# 🤖 Modelado y Evaluación del Proyecto: Clasificación del Estado Laboral\n",
    "\n",
    "Este notebook corresponde a la tercera entrega del proyecto de Aprendizaje Automático. En él se entrena y evalúa un modelo de clasificación sobre datos de la Encuesta Permanente de Hogares (EPH) del INDEC para predecir la condición laboral."
   ]
  },
  {
   "cell_type": "code",
   "execution_count": null,
   "id": "601cb667",
   "metadata": {},
   "outputs": [],
   "source": [
    "# 📦 Carga de librerías\n",
    "import pandas as pd\n",
    "import numpy as np\n",
    "from sklearn.model_selection import train_test_split\n",
    "from sklearn.linear_model import LogisticRegression\n",
    "from sklearn.metrics import accuracy_score, precision_score, recall_score, f1_score, confusion_matrix, ConfusionMatrixDisplay\n",
    "import matplotlib.pyplot as plt\n",
    "import seaborn as sns\n",
    "sns.set(style='whitegrid')"
   ]
  },
  {
   "cell_type": "markdown",
   "id": "00bdb307",
   "metadata": {},
   "source": [
    "## 📁 Carga del dataset"
   ]
  },
  {
   "cell_type": "code",
   "execution_count": null,
   "id": "4a323d0d",
   "metadata": {},
   "outputs": [],
   "source": [
    "# Cargar el dataset limpio desde data/processed/\n",
    "df = pd.read_csv('../data/processed/EPH_T123_filtrado_procesado.csv')\n",
    "df.head()"
   ]
  },
  {
   "cell_type": "markdown",
   "id": "8def88a1",
   "metadata": {},
   "source": [
    "## 🔄 Preprocesamiento final"
   ]
  },
  {
   "cell_type": "code",
   "execution_count": null,
   "id": "38be1387",
   "metadata": {},
   "outputs": [],
   "source": [
    "# Separar X e y\n",
    "X = df.drop(columns='target')\n",
    "y = df['target']\n",
    "\n",
    "# Codificar variables categóricas\n",
    "X = pd.get_dummies(X, drop_first=True)\n",
    "\n",
    "# División train/test\n",
    "X_train, X_test, y_train, y_test = train_test_split(X, y, test_size=0.2, random_state=42)"
   ]
  },
  {
   "cell_type": "markdown",
   "id": "6351fcf9",
   "metadata": {},
   "source": [
    "## 🔍 Entrenamiento: Regresión Logística"
   ]
  },
  {
   "cell_type": "code",
   "execution_count": null,
   "id": "8cded705",
   "metadata": {},
   "outputs": [],
   "source": [
    "# Entrenar modelo\n",
    "model = LogisticRegression(max_iter=1000, class_weight='balanced')\n",
    "model.fit(X_train, y_train)"
   ]
  },
  {
   "cell_type": "markdown",
   "id": "b2ea6097",
   "metadata": {},
   "source": [
    "## 📊 Evaluación del modelo"
   ]
  },
  {
   "cell_type": "code",
   "execution_count": null,
   "id": "85e438a1",
   "metadata": {},
   "outputs": [],
   "source": [
    "# Predicciones\n",
    "y_pred = model.predict(X_test)\n",
    "\n",
    "# Métricas\n",
    "print(\"Accuracy:\", accuracy_score(y_test, y_pred))\n",
    "print(\"Precision:\", precision_score(y_test, y_pred))\n",
    "print(\"Recall:\", recall_score(y_test, y_pred))\n",
    "print(\"F1-score:\", f1_score(y_test, y_pred))"
   ]
  },
  {
   "cell_type": "code",
   "execution_count": null,
   "id": "96470ea0",
   "metadata": {},
   "outputs": [],
   "source": [
    "# Matriz de confusión\n",
    "cm = confusion_matrix(y_test, y_pred)\n",
    "disp = ConfusionMatrixDisplay(confusion_matrix=cm, display_labels=['Desocupado', 'Ocupado'])\n",
    "disp.plot(cmap=plt.cm.Blues)\n",
    "plt.title('Matriz de Confusión')\n",
    "plt.show()"
   ]
  },
  {
   "cell_type": "markdown",
   "id": "4ba8e16c",
   "metadata": {},
   "source": [
    "## 📌 Conclusiones\n",
    "\n",
    "- El modelo de regresión logística permite predecir la condición laboral con métricas aceptables considerando el desbalance.\n",
    "- Las variables sociodemográficas como edad, sexo y nivel educativo muestran relación con el estado laboral.\n",
    "- Se pueden evaluar otros modelos en el futuro (árboles, random forest) para comparar desempeño."
   ]
  }
 ],
 "metadata": {
  "kernelspec": {
   "display_name": "Python 3 (ipykernel)",
   "language": "python",
   "name": "python3"
  },
  "language_info": {
   "codemirror_mode": {
    "name": "ipython",
    "version": 3
   },
   "file_extension": ".py",
   "mimetype": "text/x-python",
   "name": "python",
   "nbconvert_exporter": "python",
   "pygments_lexer": "ipython3",
   "version": "3.12.7"
  }
 },
 "nbformat": 4,
 "nbformat_minor": 5
}
