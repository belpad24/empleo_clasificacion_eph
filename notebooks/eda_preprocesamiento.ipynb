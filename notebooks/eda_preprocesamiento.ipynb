{
  "cells": [
    {
      "cell_type": "markdown",
      "metadata": {},
      "source": [
        "# \ud83d\udcca An\u00e1lisis Exploratorio y Preprocesamiento\n",
        "\n",
        "Este notebook corresponde al proyecto de clasificaci\u00f3n del estado laboral utilizando datos de la Encuesta Permanente de Hogares (EPH). Aqu\u00ed se realiza la carga, exploraci\u00f3n, limpieza y preparaci\u00f3n de los datos."
      ]
    },
    {
      "cell_type": "code",
      "execution_count": null,
      "metadata": {},
      "outputs": [],
      "source": [
        "# \ud83d\udce6 Carga de librer\u00edas\n",
        "import pandas as pd\n",
        "import numpy as np\n",
        "import matplotlib.pyplot as plt\n",
        "import seaborn as sns\n",
        "from sklearn.model_selection import train_test_split\n",
        "\n",
        "pd.set_option('display.max_columns', None)\n",
        "sns.set(style=\"whitegrid\")"
      ]
    },
    {
      "cell_type": "markdown",
      "metadata": {},
      "source": [
        "## \ud83d\udcc1 Cargar datos\n",
        "\n",
        "Asegurate de que el archivo `.csv` est\u00e9 ubicado en `../data/raw/`"
      ]
    },
    {
      "cell_type": "code",
      "execution_count": null,
      "metadata": {},
      "outputs": [],
      "source": [
        "# Ruta al archivo CSV (modific\u00e1 el nombre si us\u00e1s otro trimestre)\n",
        "ruta = '../data/raw/usu_individual_T123.csv'\n",
        "df = pd.read_csv(ruta, sep=';', encoding='latin1')\n",
        "df.shape"
      ]
    },
    {
      "cell_type": "markdown",
      "metadata": {},
      "source": [
        "## \ud83d\udd0d Exploraci\u00f3n inicial"
      ]
    },
    {
      "cell_type": "code",
      "execution_count": null,
      "metadata": {},
      "outputs": [],
      "source": [
        "# Ver columnas y muestra\n",
        "df.columns.tolist()[:15]"
      ]
    },
    {
      "cell_type": "code",
      "execution_count": null,
      "metadata": {},
      "outputs": [],
      "source": [
        "# Ver distribuci\u00f3n de la variable objetivo (estado laboral)\n",
        "df['ESTADO'].value_counts(dropna=False)"
      ]
    },
    {
      "cell_type": "markdown",
      "metadata": {},
      "source": [
        "## \ud83e\uddfc Preprocesamiento de variables"
      ]
    },
    {
      "cell_type": "code",
      "execution_count": null,
      "metadata": {},
      "outputs": [],
      "source": [
        "# Selecci\u00f3n de columnas de inter\u00e9s\n",
        "df = df[['CH04', 'P21', 'NIVEL_ED', 'ESTADO', 'CAT_OCUP', 'RAMAC']].copy()\n",
        "\n",
        "# Eliminar filas con valores faltantes en estas columnas\n",
        "df = df.dropna()\n",
        "\n",
        "# Filtrar solo personas econ\u00f3micamente activas (estado 1 y 2)\n",
        "df = df[df['ESTADO'].isin([1, 2])]\n",
        "\n",
        "# Codificar target: 1 = Ocupado, 0 = Desocupado\n",
        "df['TARGET'] = df['ESTADO'].apply(lambda x: 1 if x == 1 else 0)"
      ]
    },
    {
      "cell_type": "markdown",
      "metadata": {},
      "source": [
        "## \u2702\ufe0f Divisi\u00f3n en train/test"
      ]
    },
    {
      "cell_type": "code",
      "execution_count": null,
      "metadata": {},
      "outputs": [],
      "source": [
        "# Variables predictoras (features)\n",
        "X = df.drop(columns=['ESTADO', 'TARGET'])\n",
        "y = df['TARGET']\n",
        "\n",
        "# Convertir variables categ\u00f3ricas a dummies (one-hot encoding)\n",
        "X = pd.get_dummies(X, drop_first=True)\n",
        "\n",
        "# Divisi\u00f3n train/test\n",
        "X_train, X_test, y_train, y_test = train_test_split(X, y, test_size=0.2, random_state=42)\n",
        "X_train.shape, X_test.shape"
      ]
    }
  ],
  "metadata": {
    "kernelspec": {
      "display_name": "Python 3",
      "language": "python",
      "name": "python3"
    },
    "language_info": {
      "name": "python",
      "version": "3.11"
    }
  },
  "nbformat": 4,
  "nbformat_minor": 5
}