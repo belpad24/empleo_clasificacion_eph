{
 "cells": [
  {
   "cell_type": "markdown",
   "id": "e5085568-ff00-4fac-b567-8d348d8e9c53",
   "metadata": {},
   "source": [
    "# **Proyecto de Clasificación de Aprendizaje Automático - Padrón Belén**"
   ]
  },
  {
   "cell_type": "markdown",
   "id": "55b0ddb7-75c8-4d8c-ac99-19984a7023ef",
   "metadata": {},
   "source": [
    "##  Paso 1: Carga, ETL y Exploración"
   ]
  },
  {
   "cell_type": "markdown",
   "id": "2af6de85-5301-424d-8a0f-ef342a355a1c",
   "metadata": {},
   "source": [
    "🔹 Carga del archivo original"
   ]
  },
  {
   "cell_type": "markdown",
   "id": "d1b218b9-0489-4009-9935-b013761081f3",
   "metadata": {},
   "source": [
    "Esta celda carga el archivo original de la EPH (Encuesta Permanente de Hogares) desde la carpeta `data/raw`. Se utiliza el separador `;` porque el archivo está en formato `.txt` con ese formato. Se visualizan las primeras filas para verificar que la carga fue exitosa."
   ]
  },
  {
   "cell_type": "code",
   "execution_count": null,
   "id": "6add492d-728e-4356-9775-45242960f9b4",
   "metadata": {},
   "outputs": [],
   "source": [
    "import pandas as pd\n",
    "\n",
    "ruta= '../data/raw/usu_individual_T423.txt'\n",
    "\n",
    "# Cargar archivo\n",
    "df = pd.read_csv(ruta, sep=\";\", encoding=\"latin1\", low_memory=False)\n",
    "print(\"Dimensiones del dataset:\", df.shape)\n",
    "\n",
    "# Filtrar solo por el Estado\n",
    "df_nuevo = df[df[\"ESTADO\"].isin([1, 2])].copy()\n",
    "df_nuevo[\"empleado\"] = df_nuevo[\"ESTADO\"].apply(lambda x: 1 if x == 1 else 0)\n",
    "\n",
    "print(\"✔️ Datos cargados correctamente.\")\n",
    "df.head()"
   ]
  },
  {
   "cell_type": "markdown",
   "id": "0027f516-9388-46b6-ba30-71d834516cfa",
   "metadata": {},
   "source": [
    "🔹 Renombrar columnas para vista simplificada"
   ]
  },
  {
   "cell_type": "markdown",
   "id": "4d4a7821-8045-49e0-a752-43c9b44548f9",
   "metadata": {},
   "source": [
    "Aquí se renombran algunas columnas para facilitar la lectura del dataset. Por ejemplo, `CH04` se convierte en `sexo`, y `CH06` en `edad`. Esto no afecta el resto del código, ya que se usa solo para visualizar una tabla más comprensible en esta etapa inicial."
   ]
  },
  {
   "cell_type": "code",
   "execution_count": null,
   "id": "50ce21d9-2881-4604-a343-258ccf6e122e",
   "metadata": {},
   "outputs": [],
   "source": [
    "# Crear una vista con algunas columnas y nombres más legibles para exploración\n",
    "df_renombrado = df.rename(columns={\n",
    "    \"CH04\": \"sexo\",\n",
    "    \"CH06\": \"edad\",\n",
    "    \"ESTADO\": \"estado_laboral\",\n",
    "    \"CH10\": \"nivel_educativo\",\n",
    "    \"AGLOMERADO\": \"aglomerado\"})\n",
    "\n",
    "# Mostrar primeras filas\n",
    "df_renombrado[[\"sexo\", \"edad\", \"estado_laboral\", \"nivel_educativo\", \"aglomerado\"]].head()\n"
   ]
  },
  {
   "cell_type": "markdown",
   "id": "156deef9-e5a8-47a9-bac5-5f6007d14bff",
   "metadata": {},
   "source": [
    "🔹 ETL – Filtrado de empleados y desempleados"
   ]
  },
  {
   "cell_type": "markdown",
   "id": "2220be08-ddfa-413b-82dc-0046ba0a50b2",
   "metadata": {},
   "source": [
    "En esta celda se filtran únicamente las personas que están ocupadas (`ESTADO = 1`) o desocupadas (`ESTADO = 2`). Se crea una nueva variable llamada `empleado`, que toma el valor 1 para personas ocupadas y 0 para desocupadas. Esto simplifica la tarea de clasificación para los modelos posteriores."
   ]
  },
  {
   "cell_type": "code",
   "execution_count": null,
   "id": "0c84c718-52a7-486b-baa8-d2d9de1b3c53",
   "metadata": {},
   "outputs": [],
   "source": [
    "# Filtrar solo ocupados y desocupados\n",
    "df = df[df[\"ESTADO\"].isin([1, 2])].copy()\n",
    "df[\"empleado\"] = df[\"ESTADO\"].apply(lambda x: 1 if x == 1 else 0)\n",
    "print(\"✔️ Filtrados empleados y desempleados.\")\n",
    "df[\"empleado\"].value_counts().rename(index={0: \"Desempleado\", 1: \"Empleado\"})\n"
   ]
  },
  {
   "cell_type": "markdown",
   "id": "9add9186-bdce-4098-8e25-73c4a43ffe8b",
   "metadata": {},
   "source": [
    "🔹 Exploración – Gráficos iniciales"
   ]
  },
  {
   "cell_type": "markdown",
   "id": "5ee7a45c",
   "metadata": {},
   "source": [
    "Este gráfico permite observar cómo se distribuyen las edades según si las personas están empleadas o desempleadas. \n",
    "Es útil para detectar diferencias visibles entre los grupos y tener un primer acercamiento a los patrones que podrían \n",
    "ayudar al modelo a predecir la condición laboral."
   ]
  },
  {
   "cell_type": "code",
   "execution_count": null,
   "id": "81cc25dd-0ac4-4c7b-aebf-e2e852389392",
   "metadata": {},
   "outputs": [],
   "source": [
    "import matplotlib.pyplot as plt\n",
    "import seaborn as sns\n",
    "\n",
    "# Distribución de edad por condición laboral\n",
    "plt.figure(figsize=(8, 5))\n",
    "sns.histplot(data=df, x=\"CH06\", hue=\"empleado\", bins=30, kde=True, palette=\"Set2\")\n",
    "plt.title(\"Distribución de edades por condición laboral\")\n",
    "plt.xlabel(\"Edad\")\n",
    "plt.ylabel(\"Cantidad de personas\")\n",
    "plt.legend(title=\"Empleado\", labels=[\"Desempleado\", \"Empleado\"])\n",
    "plt.show()\n"
   ]
  },
  {
   "cell_type": "markdown",
   "id": "33699a55-fad6-4878-a8f2-858c785647d9",
   "metadata": {},
   "source": [
    "## Paso 2:  Selección, transformación y guardado"
   ]
  },
  {
   "cell_type": "markdown",
   "id": "4f25ee28-94e4-4d8f-8747-5b54f044644f",
   "metadata": {},
   "source": [
    "🔹 Selección de variables y preprocesamiento"
   ]
  },
  {
   "cell_type": "markdown",
   "id": "e27838ff-34b6-4fc2-9e19-910a122c163e",
   "metadata": {},
   "source": [
    "Se seleccionan las variables que se usarán como predictoras y se identifican como numéricas o categóricas. Luego se imputan (rellenan) los valores faltantes. Para las numéricas se usa la mediana, y para las categóricas se usa la categoría más frecuente (Moda). Esto permite mantener la mayor cantidad de datos sin eliminar filas."
   ]
  },
  {
   "cell_type": "code",
   "execution_count": null,
   "id": "87580086-895f-4492-99dc-40bec5ebd1c6",
   "metadata": {},
   "outputs": [],
   "source": [
    "from sklearn.impute import SimpleImputer\n",
    "from sklearn.preprocessing import StandardScaler\n",
    "\n",
    "# Variables seleccionadas\n",
    "columnas = ['CH04', 'CH06', 'CH10', 'CH15_COD', 'AGLOMERADO',\n",
    "            'PP04B_COD', 'PP07H', 'PP07K', 'ITF', 'empleado']\n",
    "\n",
    "df_modelo = df[columnas].copy()\n",
    "\n",
    "# Identificar variables\n",
    "vars_numericas = ['CH06', 'PP07H', 'ITF']\n",
    "vars_categoricas = ['CH04', 'CH10', 'CH15_COD', 'AGLOMERADO', 'PP04B_COD', 'PP07K']\n",
    "\n",
    "# Imputación\n",
    "imp_num = SimpleImputer(strategy='median')\n",
    "df_modelo[vars_numericas] = imp_num.fit_transform(df_modelo[vars_numericas])\n",
    "\n",
    "imp_cat = SimpleImputer(strategy='most_frequent')\n",
    "df_modelo[vars_categoricas] = imp_cat.fit_transform(df_modelo[vars_categoricas])\n"
   ]
  },
  {
   "cell_type": "markdown",
   "id": "0bdcfe47-f377-47b2-953e-799f9f540879",
   "metadata": {},
   "source": [
    "🔹 Codificación y escalado"
   ]
  },
  {
   "cell_type": "markdown",
   "id": "2148a1f0-dcde-453f-bcd2-0be256ffac5b",
   "metadata": {},
   "source": [
    "Las variables categóricas se convierten en variables binarias (one-hot encoding) para que puedan ser utilizadas por los algoritmos de machine learning. Las variables numéricas se escalan (normalizan) para que todas tengan una magnitud comparable, lo cual mejora el rendimiento de ciertos modelos como la regresión logística."
   ]
  },
  {
   "cell_type": "code",
   "execution_count": null,
   "id": "7f4860e4-0205-4444-a56e-3be1d0e937ca",
   "metadata": {},
   "outputs": [],
   "source": [
    "# Codificación one-hot\n",
    "df_modelo = pd.get_dummies(df_modelo, columns=vars_categoricas, drop_first=True)\n",
    "\n",
    "# Escalado\n",
    "scaler = StandardScaler()\n",
    "df_modelo[vars_numericas] = scaler.fit_transform(df_modelo[vars_numericas])\n",
    "\n",
    "# Separar X e y\n",
    "X = df_modelo.drop(columns='empleado')\n",
    "y = df_modelo['empleado']\n"
   ]
  },
  {
   "cell_type": "markdown",
   "id": "2edccdc5-0cf1-4472-9678-bbe10c97eb27",
   "metadata": {},
   "source": [
    "🔹 Guardar archivo limpio"
   ]
  },
  {
   "cell_type": "markdown",
   "id": "18c82183-151f-4050-be45-7df0baef29c0",
   "metadata": {},
   "source": [
    "Una vez que los datos están limpios, completos y listos para entrenar modelos, se guardan en un nuevo archivo llamado `datos_limpios.csv` dentro de la carpeta `data/processed`. Este archivo será utilizado en la siguiente notebook para entrenar y evaluar distintos modelos de predicción."
   ]
  },
  {
   "cell_type": "code",
   "execution_count": null,
   "id": "cc513a95-0970-4ee8-9ec4-688985cb873f",
   "metadata": {},
   "outputs": [],
   "source": [
    "# Guardar archivo limpio \n",
    "ruta_salida = '../data/processed/.csv'\n",
    "df_export = X.copy()\n",
    "df_export['empleado'] = y\n",
    "df_export.to_csv(ruta_salida, index=False)\n",
    "print(\"✔️ Archivo guardado en:\", ruta_salida)\n"
   ]
  },
  {
   "cell_type": "markdown",
   "id": "9698e185-3cb5-49e4-a2be-2e1b52a40182",
   "metadata": {},
   "source": [
    "## Paso 3: Modelado y Evaluación de Clasificadores"
   ]
  },
  {
   "cell_type": "markdown",
   "id": "e4ed496e-2ec7-4862-8fb7-501fd6b8ae65",
   "metadata": {},
   "source": [
    "En esta celda se carga el archivo `datos_limpios.csv` previamente generado en la notebook de preprocesamiento. Luego, se divide el conjunto en datos de entrenamiento y prueba: el 70% se usa para entrenar los modelos, y el 30% para evaluarlos. La opción `stratify=y` garantiza que las proporciones de empleados y desempleados se mantengan iguales en ambos subconjuntos."
   ]
  },
  {
   "cell_type": "code",
   "execution_count": null,
   "id": "3f583895-bcf7-46dd-baf5-9864f640b9b2",
   "metadata": {},
   "outputs": [],
   "source": [
    "# --- Carga de librerías ---\n",
    "import pandas as pd\n",
    "from sklearn.model_selection import train_test_split\n",
    "from sklearn.linear_model import LogisticRegression\n",
    "from sklearn.tree import DecisionTreeClassifier\n",
    "from sklearn.ensemble import RandomForestClassifier\n",
    "from sklearn.metrics import (accuracy_score,\n",
    "    classification_report,\n",
    "    confusion_matrix,\n",
    "    ConfusionMatrixDisplay)\n",
    "import matplotlib.pyplot as plt\n",
    "\n",
    "# --- Cargar dataset limpio ---\n",
    "df = pd.read_csv(\"../data/processed/datos_limpios.csv\")\n",
    "X = df.drop(columns=\"empleado\")\n",
    "y = df[\"empleado\"]"
   ]
  },
  {
   "cell_type": "code",
   "execution_count": null,
   "id": "4c945a19-c124-4426-821a-b2618e52a871",
   "metadata": {},
   "outputs": [],
   "source": [
    "# --- División en entrenamiento y prueba ---\n",
    "X_train, X_test, y_train, y_test = train_test_split(X, y, test_size=0.3, random_state=42, stratify=y)\n",
    "\n",
    "# --- Entrenamiento de modelos ---\n",
    "modelos = {    \"Logistic Regression\": LogisticRegression(max_iter=1000),\n",
    "    \"Decision Tree\": DecisionTreeClassifier(random_state=42),\n",
    "    \"Random Forest\": RandomForestClassifier(random_state=42)}\n",
    "\n",
    "# Entrenar cada modelo\n",
    "for nombre, modelo in modelos.items():\n",
    "    modelo.fit(X_train, y_train)"
   ]
  },
  {
   "cell_type": "markdown",
   "id": "c0dfe44f-e2ab-4461-8b45-d9a563e6d3dd",
   "metadata": {},
   "source": [
    "Aquí se entrenan tres modelos clásicos de clasificación:\n",
    "- **Regresión Logística**, útil para interpretar coeficientes;\n",
    "- **Árbol de Decisión**, que construye reglas explícitas y visuales;\n",
    "- **Random Forest**, un modelo más robusto que combina muchos árboles.\n"
   ]
  },
  {
   "cell_type": "markdown",
   "id": "bc01535b-0c75-403a-aec5-949989e73b27",
   "metadata": {},
   "source": [
    "### Gráficos de desempeño de modelos\n",
    "🔹 Para cada modelo, podés generar un gráfico de importancia o comparación"
   ]
  },
  {
   "cell_type": "code",
   "execution_count": null,
   "id": "5136a698-ffdb-47de-a607-4ded47e55040",
   "metadata": {},
   "outputs": [],
   "source": [
    "# --- Mostrar coeficientes del modelo Logistic Regression ---\n",
    "modelo_logit = modelos[\"Logistic Regression\"]\n",
    "coeficientes = pd.DataFrame({    \"Variable\": X.columns,\n",
    "    \"Coeficiente\": modelo_logit.coef_[0]}).sort_values(by=\"Coeficiente\", ascending=False)\n",
    "\n",
    "# Mostrar coeficientes más influyentes\n",
    "print(\" Coeficientes positivos (mayor probabilidad de empleo):\")\n",
    "print(coeficientes.head(10))\n",
    "print(\"\\n Coeficientes negativos (mayor probabilidad de desempleo):\")\n",
    "print(coeficientes.tail(10))"
   ]
  },
  {
   "cell_type": "code",
   "execution_count": null,
   "id": "19e1920b-561a-4cbc-943f-110ab0968ad2",
   "metadata": {},
   "outputs": [],
   "source": [
    "from sklearn.tree import plot_tree\n",
    "# --- Visualización del árbol de decisión ---\n",
    "modelo_arbol = modelos[\"Decision Tree\"]\n",
    "\n",
    "plt.figure(figsize=(16, 8))\n",
    "plot_tree(modelo_arbol,\n",
    "          feature_names=X.columns,\n",
    "          class_names=[\"Desempleado\", \"Empleado\"],\n",
    "          filled=True, rounded=True, max_depth=3, fontsize=10)\n",
    "plt.title(\"Visualización del Árbol de Decisión (primeros niveles)\")\n",
    "plt.show()"
   ]
  },
  {
   "cell_type": "code",
   "execution_count": null,
   "id": "bc9ecf23-f16f-452e-a8a7-3a311a013593",
   "metadata": {},
   "outputs": [],
   "source": [
    "import matplotlib.pyplot as plt\n",
    "import numpy as np\n",
    "\n",
    "# Entrenar el mejor modelo nuevamente e Importancia de variables\n",
    "mejor_modelo = RandomForestClassifier(random_state=42)\n",
    "mejor_modelo.fit(X, y)\n",
    "importancias = mejor_modelo.feature_importances_\n",
    "indices = np.argsort(importancias)[-10:]  # 10 variables más importantes\n",
    "features = X.columns[indices]\n",
    "\n",
    "nombres_legibles = {\"CH06\": \"Edad\",\n",
    "    \"PP07H\": \"Horas trabajadas\",\n",
    "    \"ITF\": \"Ingreso total familiar\",\n",
    "    \"PP07K_1.0\": \"Ingreso laboral: hasta $15mil\",\n",
    "    \"CH04_2.0\": \"Sexo (mujer)\",\n",
    "    \"CH10_2.0\": \"Educación media\",\n",
    "    \"CH10_3.0\": \"Educación superior\",\n",
    "    \"CH15_COD_6.0\": \"Estado civil: otro\",\n",
    "    \"PP04B_COD_8401.0\": \"Rama actividad: enseñanza\",\n",
    "    \"AGLOMERADO_33.0\": \"Bahía Blanca\",\n",
    "    \"AGLOMERADO_13.0\": \"Gran Rosario\"}\n",
    "features_legibles = [nombres_legibles.get(f, f.replace(\"_\", \" \")) for f in features]\n",
    "    \n",
    "# Gráfico\n",
    "plt.figure(figsize=(8, 5))\n",
    "plt.barh(features_legibles, importancias[indices], color=\"purple\")\n",
    "plt.title(\"Importancia de variables - Random Forest\")\n",
    "plt.xlabel(\"Importancia\")\n",
    "plt.tight_layout()\n",
    "plt.show()\n"
   ]
  },
  {
   "cell_type": "markdown",
   "id": "cf948d87-45d6-4b9a-9eae-029144c122fb",
   "metadata": {},
   "source": [
    "Este gráfico muestra cuáles fueron las variables más importantes que utilizó el modelo Random Forest para tomar decisiones. Es útil para entender qué características de las personas (por ejemplo, edad, nivel educativo, etc.) influyen más a la hora de predecir si están empleadas o no."
   ]
  },
  {
   "cell_type": "code",
   "execution_count": null,
   "id": "f7075454-ae35-41d5-937f-8c3fed070e08",
   "metadata": {},
   "outputs": [],
   "source": [
    "# --- Evaluación de cada modelo ---\n",
    "resultados = []\n",
    "\n",
    "for nombre, modelo in modelos.items():\n",
    "    modelo.fit(X_train, y_train)\n",
    "    y_pred = modelo.predict(X_test)\n",
    "    \n",
    "    acc = accuracy_score(y_test, y_pred)\n",
    "    print(f\"\\n📌 Modelo: {nombre}\")\n",
    "    print(\"Accuracy:\", round(acc, 4))\n",
    "    print(\"Reporte de clasificación:\\n\", classification_report(y_test, y_pred))\n",
    "    \n",
    "    # Matriz de confusión\n",
    "    cm = confusion_matrix(y_test, y_pred)\n",
    "    ConfusionMatrixDisplay(confusion_matrix=cm,\n",
    "                           display_labels=[\"Desempleado\", \"Empleado\"]).plot(cmap=\"Blues\")\n",
    "    plt.title(f\"Matriz de Confusión - {nombre}\")\n",
    "    plt.show()\n",
    "    \n",
    "    # Guardar accuracy\n",
    "    resultados.append((nombre, round(acc, 4)))\n"
   ]
  },
  {
   "cell_type": "markdown",
   "id": "fbe98a32-1766-4061-82c6-a5c3e79a129f",
   "metadata": {},
   "source": [
    "Se evalúa su desempeño en el conjunto de prueba utilizando métricas como:\n",
    "- **Accuracy**: proporción total de predicciones correctas.\n",
    "- **Precision, Recall y F1-score**: para evaluar cada clase por separado, especialmente útil cuando hay clases desbalanceadas (como en este caso, donde los desempleados son pocos).\n",
    "\n",
    "Cada modelo también muestra una **matriz de confusión**, que permite ver cuántos casos se clasificaron bien y mal por clase."
   ]
  },
  {
   "cell_type": "code",
   "execution_count": null,
   "id": "e1544921-21ba-4de6-bfab-b7c0e7dd281c",
   "metadata": {},
   "outputs": [],
   "source": [
    "# --- Mostrar resumen final ---\n",
    "df_resultados = pd.DataFrame(resultados, columns=[\"Modelo\", \"Accuracy\"])\n",
    "print(\"\\n Comparación de Accuracy entre modelos:\")\n",
    "print(df_resultados.sort_values(\"Accuracy\", ascending=False))\n",
    "\n",
    "import joblib # guardar y cargar el modelo automaticamente \n",
    "joblib.dump(modelos[\"Random Forest\"], \"../models/modelo_random_forest.pkl\")"
   ]
  },
  {
   "cell_type": "markdown",
   "id": "dbe12230-f5f7-4a05-ace1-031d364532cf",
   "metadata": {},
   "source": [
    "Esta tabla resume el accuracy de cada modelo. Aunque todos alcanzan valores altos, se observa que:\n",
    "- **Random Forest** tiene el mejor desempeño general, con un accuracy de 97.12%.\n",
    "- También muestra el mejor balance entre precisión y recall en la clase minoritaria (desempleados), lo que justifica su selección como modelo final para aplicar en regiones específicas."
   ]
  },
  {
   "cell_type": "markdown",
   "id": "88c1d321-1a3e-49b2-b013-709a33701dee",
   "metadata": {},
   "source": [
    "### Interpretación de Pasos ejecutados:\n",
    "En este análisis se compararon tres modelos de clasificación supervisada: Regresión Logística, Árbol de Decisión y Random Forest.\n",
    "\n",
    "Random Forest fue el modelo con mejor desempeño general, obteniendo una accuracy del 97,12%.\n",
    "\n",
    "Aunque todos los modelos clasificaron muy bien a las personas empleadas, hubo mayores dificultades con los casos desempleados, que son minoría (solo 317 de 6711).\n",
    "\n",
    "Random Forest logró la mejor combinación de precisión y recall para esa clase minoritaria, alcanzando un f1-score de 0.67 para desempleados, lo que indica un buen equilibrio entre falsos positivos y negativos.\n",
    "\n",
    "Por este motivo, se selecciona Random Forest como el modelo final para aplicar en el análisis regional (Tierra del Fuego)."
   ]
  },
  {
   "cell_type": "markdown",
   "id": "4ad5b5cc-bc76-443e-8d3c-98b1e31c6b21",
   "metadata": {},
   "source": [
    "| Modelo              | Accuracy | f1-score (Desempleado) |\n",
    "| ------------------- | -------- | ---------------------- |\n",
    "| Random Forest       | 0.9712   | 0.67                   |\n",
    "| Logistic Regression | 0.9681   | 0.63                   |\n",
    "| Decision Tree       | 0.9629   | 0.61                   |\n"
   ]
  },
  {
   "cell_type": "markdown",
   "id": "7572c0fe-2567-4728-9fee-ee48a7db1f29",
   "metadata": {},
   "source": [
    "# Paso 4 : Predicción y evaluación en Tierra del Fuego"
   ]
  },
  {
   "cell_type": "code",
   "execution_count": null,
   "id": "43ae4c17-2e3e-4dfd-bcfd-1267ad68bbfe",
   "metadata": {},
   "outputs": [],
   "source": [
    "# --- Cargar librerías ---\n",
    "import pandas as pd\n",
    "from sklearn.metrics import (confusion_matrix,\n",
    "    ConfusionMatrixDisplay,\n",
    "    classification_report,\n",
    "    accuracy_score)\n",
    "import matplotlib.pyplot as plt\n",
    "from sklearn.ensemble import RandomForestClassifier\n",
    "\n",
    "ruta = \"../data/raw/usu_individual_T423.txt\"\n",
    "\n",
    "# --- Cargar modelo entrenado (ej. Random Forest del Notebook 2) ---\n",
    "mejor_modelo = joblib.load(\"modelo_random_forest.pkl\")\n",
    "\n",
    "# --- Cargar dataset original (no procesado) ---\n",
    "df_tdf = pd.read_csv(ruta, sep=\";\", encoding=\"latin1\")\n",
    "\n",
    "# --- Filtrar por aglomerado 91 (Ushuaia-Río Grande) y solo ESTADO 1 o 2 ---\n",
    "df_tdf = df_tdf[(df_tdf['AGLOMERADO'] == 91) & (df_tdf['ESTADO'].isin([1, 2]))].copy()\n",
    "df_tdf['empleado'] = df_tdf['ESTADO'].apply(lambda x: 1 if x == 1 else 0)\n",
    "y_real_tdf = df_tdf['empleado']  # Guardamos los reales"
   ]
  },
  {
   "cell_type": "markdown",
   "id": "37b1338e-a990-40c3-b65b-a4ff93fa6bbd",
   "metadata": {},
   "source": [
    "En esta celda se carga el modelo de Random Forest previamente entrenado y guardado como archivo `.pkl`. Luego se carga nuevamente el dataset original completo para extraer de él únicamente los casos de Tierra del Fuego (aglomerado 91) que hayan declarado estar ocupados o desocupados (`ESTADO` 1 o 2). Esto permite evaluar si el modelo funciona correctamente a nivel local."
   ]
  },
  {
   "cell_type": "code",
   "execution_count": null,
   "id": "34376844-7fe8-433b-b1f5-23bf78e566d0",
   "metadata": {},
   "outputs": [],
   "source": [
    "# Renombrar columnas clave para visualización (opcional)\n",
    "df_tdf_vista = df_tdf.rename(columns={\n",
    "    \"CH04\": \"sexo\",\n",
    "    \"CH06\": \"edad\",\n",
    "    \"ESTADO\": \"estado_laboral\",\n",
    "    \"CH10\": \"nivel_educativo\",\n",
    "    \"AGLOMERADO\": \"aglomerado\"})\n",
    "\n",
    "# Mostrar una vista con nombres mas amigable\n",
    "df_tdf_vista[[\"sexo\", \"edad\", \"estado_laboral\", \"nivel_educativo\", \"aglomerado\"]].head()"
   ]
  },
  {
   "cell_type": "markdown",
   "id": "38bd828d-9bb3-4b99-8408-8c551b623d61",
   "metadata": {},
   "source": [
    "Se renombran algunas columnas clave para facilitar la lectura de los datos en esta notebook. Esto no afecta el procesamiento ni el modelo, pero permite mostrar una tabla más entendible con variables como sexo, edad o estado laboral."
   ]
  },
  {
   "cell_type": "markdown",
   "id": "17a8a5bd-8862-4dec-bc10-bf5f1c2104a9",
   "metadata": {},
   "source": [
    "Celda: Gráfico de distribución real de clases en TDF"
   ]
  },
  {
   "cell_type": "code",
   "execution_count": null,
   "id": "9732edfb-521e-483d-93f5-460a5770921d",
   "metadata": {},
   "outputs": [],
   "source": [
    "# Contar valores reales\n",
    "conteo_clases = y_real_tdf.value_counts().rename(index={0: \"Desempleado\", 1: \"Empleado\"})\n",
    "\n",
    "# Gráfico de barras\n",
    "plt.figure(figsize=(6, 4))\n",
    "sns.barplot(x=conteo_clases.index, y=conteo_clases.values, palette=\"Set2\")\n",
    "plt.title(\"Distribución real de empleados y desempleados\\nTierra del Fuego (AGLOMERADO 91)\")\n",
    "plt.ylabel(\"Cantidad de personas\")\n",
    "plt.xlabel(\"Condición laboral\")\n",
    "plt.tight_layout()\n",
    "plt.show()"
   ]
  },
  {
   "cell_type": "markdown",
   "id": "924cd0fb-4196-434b-94da-7b61196948a6",
   "metadata": {},
   "source": [
    "Este gráfico muestra cuántas personas en Tierra del Fuego (aglomerado 91) están empleadas o desempleadas según los datos reales.\n",
    "\n",
    "Se observa un fuerte desbalance: la mayoría de los casos corresponden a personas empleadas. Esta desigualdad entre clases explica por qué algunos modelos tienen más dificultad para detectar correctamente a los desempleados.\n",
    "\n",
    "Por eso, en este proyecto se pone especial atención en evaluar métricas por clase, como el recall y el f1-score para los desempleados."
   ]
  },
  {
   "cell_type": "code",
   "execution_count": null,
   "id": "3d19245a-6f70-4d05-bb0d-3572a8e0e1cc",
   "metadata": {},
   "outputs": [],
   "source": [
    "# --- Mismo preprocesamiento usado antes ---\n",
    "columnas = ['CH04', 'CH06', 'CH10', 'CH15_COD', 'AGLOMERADO',\n",
    "            'PP04B_COD', 'PP07H', 'PP07K', 'ITF', 'empleado']\n",
    "\n",
    "vars_numericas = ['CH06', 'PP07H', 'ITF']\n",
    "vars_categoricas = ['CH04', 'CH10', 'CH15_COD', 'AGLOMERADO', 'PP04B_COD', 'PP07K']\n",
    "\n",
    "df_tdf = df_tdf[columnas].copy()\n",
    "\n",
    "# Imputación\n",
    "df_tdf[vars_numericas] = imp_num.transform(df_tdf[vars_numericas])\n",
    "df_tdf[vars_categoricas] = imp_cat.transform(df_tdf[vars_categoricas])\n",
    "\n",
    "# One-hot encoding\n",
    "df_tdf = pd.get_dummies(df_tdf, columns=vars_categoricas, drop_first=True)\n",
    "\n",
    "# Alinear columnas con X_train\n",
    "df_tdf = df_tdf.reindex(columns=X_train.columns, fill_value=0)\n",
    "\n",
    "# Escalar numéricas\n",
    "df_tdf[vars_numericas] = scaler.transform(df_tdf[vars_numericas])\n",
    "\n",
    "# --- Predicción del mejor modelo ---\n",
    "y_pred_tdf = mejor_modelo.predict(df_tdf)\n",
    "\n",
    "# --- Comparación real vs predicho ---\n",
    "df_comparacion = pd.DataFrame({\"Real\": y_real_tdf,\n",
    "    \"Predicho\": y_pred_tdf})\n",
    "\n",
    "# Matriz de confusión\n",
    "cm = confusion_matrix(y_real_tdf, y_pred_tdf)\n",
    "ConfusionMatrixDisplay(confusion_matrix=cm, display_labels=[\"Desempleado\", \"Empleado\"]).plot(cmap=\"Blues\")\n",
    "plt.title(\"Matriz de Confusión - Tierra del Fuego\")\n",
    "plt.show()\n",
    "\n",
    "# Accuracy y métricas\n",
    "acc_tdf = accuracy_score(y_real_tdf, y_pred_tdf)\n",
    "print(\"🔍 Accuracy en Tierra del Fuego:\", round(acc_tdf, 4))\n",
    "print(\"\\n📋 Reporte de clasificación (TDF):\")\n",
    "print(classification_report(y_real_tdf, y_pred_tdf, target_names=[\"Desempleado\", \"Empleado\"]))"
   ]
  },
  {
   "cell_type": "markdown",
   "id": "27949eea-1d12-44c0-a35a-95cee7043792",
   "metadata": {},
   "source": [
    "### En esta sección se aplicó el modelo final seleccionado (Random Forest) sobre la población de Ushuaia – Río Grande, filtrando únicamente personas ocupadas y desocupadas (AGLOMERADO 91, ESTADO 1 o 2)."
   ]
  },
  {
   "cell_type": "markdown",
   "id": "9625c619-c264-4f0c-8f29-bbc8a487eb9b",
   "metadata": {},
   "source": [
    "Resultados del modelo:\n",
    "| Métrica               | Desempleado | Empleado |\n",
    "| --------------------- | ----------- | -------- |\n",
    "| Precision             | 0.73        | 0.98     |\n",
    "| Recall (sensibilidad) | 0.58        | 0.99     |\n",
    "| F1-score              | 0.65        | 0.99     |\n",
    "| Soporte (casos)       | 19          | 427      |\n",
    "\n",
    "\n",
    "🔹 Accuracy total: 97,31%\n",
    "🔹 Total de casos evaluados: 446 personas"
   ]
  },
  {
   "cell_type": "markdown",
   "id": "6136d2cc-49ff-4556-bce5-17d77b09a946",
   "metadata": {},
   "source": [
    "### Conclusiones:\n",
    "El modelo logró muy buena performance en Tierra del Fuego, consistente con los resultados a nivel nacional.\n",
    "\n",
    "Aunque el número de personas desempleadas fue bajo (n=19), el modelo predijo correctamente la mayoría de estos casos (recall 0.58, precision 0.73).\n",
    "\n",
    "El desempeño sobre personas empleadas fue excelente (recall 0.99), lo que indica alta confianza en la clasificación para la mayoría de la población activa.\n",
    "\n",
    "Esta prueba demuestra que el modelo tiene potencial de aplicación regional real, y que el enfoque de clasificación puede generalizarse con éxito a otras regiones del país si se entrena adecuadamente.\n"
   ]
  },
  {
   "cell_type": "code",
   "execution_count": null,
   "id": "e856ccef-8a09-4257-a18e-02741e59c501",
   "metadata": {},
   "outputs": [],
   "source": [
    "# Resultados predichos\n",
    "ocupados, desocupados = np.unique(y_pred_tdf, return_counts=True)\n",
    "print(f'Resultado de predicción sobre Tierra del Fuego (T423):')\n",
    "print(f'Ocupados: {desocupados[1]}, Desocupados: {desocupados[0]}')"
   ]
  },
  {
   "cell_type": "code",
   "execution_count": null,
   "id": "dca9767a-aaf0-42ca-96a3-208b15e3fb0b",
   "metadata": {},
   "outputs": [],
   "source": [
    "print(\"Distribución real de clases en Tierra del Fuego:\")\n",
    "print(y_real_tdf.value_counts().rename(index={0: \"Desempleado\", 1: \"Empleado\"}))"
   ]
  },
  {
   "cell_type": "code",
   "execution_count": null,
   "id": "206e77fa-6de7-4409-ab70-fcaa31664d8d",
   "metadata": {},
   "outputs": [],
   "source": [
    "# Crear Series con nombres legibles\n",
    "reales = y_real_tdf.value_counts().rename(index={0: \"Desempleado\", 1: \"Empleado\"})\n",
    "predichos = pd.Series(y_pred_tdf).value_counts().rename(index={0: \"Desempleado\", 1: \"Empleado\"})\n",
    "\n",
    "# Unir en una tabla\n",
    "tabla_comparacion = pd.DataFrame({\"Reales\": reales,\n",
    "    \"Predichos\": predichos})\n",
    "\n",
    "# Mostrar la tabla\n",
    "print(\"Comparación real vs predicho (Tierra del Fuego):\")\n",
    "display(tabla_comparacion)"
   ]
  },
  {
   "cell_type": "markdown",
   "id": "8dbe5133-53ad-437c-83ce-19c4c46ef52c",
   "metadata": {
    "jp-MarkdownHeadingCollapsed": true
   },
   "source": [
    "###  Comparación entre valores reales y predichos\n",
    "\n",
    "El modelo predijo correctamente la mayoría de los casos. Sin embargo, clasificó a 4 personas desempleadas como empleadas, lo que es coherente con un modelo que tiende a favorecer la clase mayoritaria (empleados).\n",
    "\n",
    "Esto se refleja en:\n",
    "- Una leve subestimación de la clase *Desempleado*,\n",
    "- Un recall moderado (0.58) para esta clase,\n",
    "- Un total de 15 predichos como desempleados frente a 19 reales.\n",
    "\n",
    "Estos resultados no invalidan el modelo, pero sí indican la importancia de trabajar con técnicas de balanceo si se busca una mayor sensibilidad para detectar desempleo.\n"
   ]
  },
  {
   "cell_type": "markdown",
   "id": "e0fc5f61-5e79-44ed-873e-2c65dda33163",
   "metadata": {},
   "source": [
    "### Subplot comparativo"
   ]
  },
  {
   "cell_type": "code",
   "execution_count": null,
   "id": "2d063361-cc0f-464d-9982-c6c6508ca14f",
   "metadata": {},
   "outputs": [],
   "source": [
    "# Series nombradas\n",
    "real = y_real_tdf.value_counts().rename(index={0: \"Desempleado\", 1: \"Empleado\"})\n",
    "pred = pd.Series(y_pred_tdf).value_counts().rename(index={0: \"Desempleado\", 1: \"Empleado\"})\n",
    "\n",
    "# Crear gráfico de subplots\n",
    "fig, axes = plt.subplots(1, 2, figsize=(10, 4), sharey=True)\n",
    "\n",
    "# Gráfico de valores reales\n",
    "sns.barplot(x=real.index, y=real.values, palette=\"Set2\", ax=axes[0])\n",
    "axes[0].set_title(\"Valores Reales\")\n",
    "axes[0].set_ylabel(\"Cantidad de personas\")\n",
    "axes[0].set_xlabel(\"Condición laboral\")\n",
    "\n",
    "# Gráfico de valores predichos\n",
    "sns.barplot(x=pred.index, y=pred.values, palette=\"Set1\", ax=axes[1])\n",
    "axes[1].set_title(\"Valores Predichos por el Modelo\")\n",
    "axes[1].set_xlabel(\"Condición laboral\")\n",
    "\n",
    "plt.suptitle(\"Comparación: Real vs Predicho - Tierra del Fuego\", fontsize=14)\n",
    "plt.tight_layout()\n",
    "plt.show()"
   ]
  },
  {
   "cell_type": "markdown",
   "id": "2290747d-783f-44c3-bda4-3ed6e6d40a8d",
   "metadata": {},
   "source": []
  }
 ],
 "metadata": {
  "kernelspec": {
   "display_name": "base",
   "language": "python",
   "name": "python3"
  },
  "language_info": {
   "codemirror_mode": {
    "name": "ipython",
    "version": 3
   },
   "file_extension": ".py",
   "mimetype": "text/x-python",
   "name": "python",
   "nbconvert_exporter": "python",
   "pygments_lexer": "ipython3",
   "version": "3.12.7"
  }
 },
 "nbformat": 4,
 "nbformat_minor": 5
}
