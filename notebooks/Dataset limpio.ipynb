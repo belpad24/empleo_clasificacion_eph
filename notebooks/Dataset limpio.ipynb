{
 "cells": [
  {
   "cell_type": "markdown",
   "id": "78e735de-7057-40b9-b440-765b956ac0a4",
   "metadata": {},
   "source": [
    "Limpieza del datasets para su uso en el modelo"
   ]
  },
  {
   "cell_type": "code",
   "execution_count": 1,
   "id": "10d0d474-1df2-469b-ba05-ecb0dad9a753",
   "metadata": {},
   "outputs": [
    {
     "name": "stderr",
     "output_type": "stream",
     "text": [
      "C:\\Users\\Bel\\AppData\\Local\\Temp\\ipykernel_3768\\2852921597.py:6: DtypeWarning: Columns (102) have mixed types. Specify dtype option on import or set low_memory=False.\n",
      "  df = pd.read_csv(ruta_original, sep=';', encoding='latin1')\n"
     ]
    },
    {
     "name": "stdout",
     "output_type": "stream",
     "text": [
      "✅ Dataset procesado guardado correctamente.\n"
     ]
    }
   ],
   "source": [
    "import pandas as pd\n",
    "\n",
    "# Cargar el archivo original desde data/raw/\n",
    "ruta_original = '../data/raw/usu_individual_T123.txt'\n",
    "\n",
    "df = pd.read_csv(ruta_original, sep=';', encoding='latin1')\n",
    "\n",
    "# Filtrar población económicamente activa (estado 1 y 2)\n",
    "df = df[df['ESTADO'].isin([1, 2])]\n",
    "\n",
    "# Seleccionar columnas relevantes\n",
    "df = df[['CH04', 'CH06', 'NIVEL_ED', 'ESTADO', 'CAT_OCUP']].copy()\n",
    "\n",
    "# Renombrar columnas\n",
    "df.columns = ['sexo', 'edad', 'nivel_educativo', 'estado', 'categoria_ocupacional']\n",
    "\n",
    "# Crear columna target (1 = ocupado, 0 = desocupado)\n",
    "df['target'] = df['estado'].apply(lambda x: 1 if x == 1 else 0)\n",
    "\n",
    "# Eliminar columna original\n",
    "df = df.drop(columns='estado')\n",
    "\n",
    "# Guardar como CSV en la carpeta processed\n",
    "df.to_csv('../data/processed/EPH_T123_filtrado_procesado.csv', index=False)\n",
    "\n",
    "print(\"✅ Dataset procesado guardado correctamente.\")\n"
   ]
  },
  {
   "cell_type": "markdown",
   "id": "ccff872f-2753-4716-8438-b41c97071b95",
   "metadata": {},
   "source": [
    "Limpieza del datasets para su uso en el modelo 2"
   ]
  },
  {
   "cell_type": "code",
   "execution_count": 4,
   "id": "9ba43385-cc44-414f-9a3c-c1ea5ccb3f06",
   "metadata": {},
   "outputs": [
    {
     "name": "stdout",
     "output_type": "stream",
     "text": [
      "✅ Dataset procesado guardado correctamente.\n"
     ]
    },
    {
     "name": "stderr",
     "output_type": "stream",
     "text": [
      "C:\\Users\\Bel\\AppData\\Local\\Temp\\ipykernel_3768\\40094086.py:6: DtypeWarning: Columns (102) have mixed types. Specify dtype option on import or set low_memory=False.\n",
      "  df = pd.read_csv(ruta_original, sep=';', encoding='latin1')\n"
     ]
    }
   ],
   "source": [
    "import pandas as pd\n",
    "\n",
    "# Cargar el archivo original desde data/raw/\n",
    "ruta_original = '../data/raw/usu_individual_T423.txt'\n",
    "\n",
    "df = pd.read_csv(ruta_original, sep=';', encoding='latin1')\n",
    "\n",
    "# Filtrar población económicamente activa (estado 1 y 2)\n",
    "df = df[df['ESTADO'].isin([1, 2])]\n",
    "\n",
    "# Seleccionar columnas relevantes\n",
    "df = df[['CH04', 'CH06', 'NIVEL_ED', 'ESTADO', 'CAT_OCUP']].copy()\n",
    "\n",
    "# Renombrar columnas\n",
    "df.columns = ['sexo', 'edad', 'nivel_educativo', 'estado', 'categoria_ocupacional']\n",
    "\n",
    "# Crear columna target (1 = ocupado, 0 = desocupado)\n",
    "df['target'] = df['estado'].apply(lambda x: 1 if x == 1 else 0)\n",
    "\n",
    "# Eliminar columna original\n",
    "df = df.drop(columns='estado')\n",
    "\n",
    "# Guardar como CSV en la carpeta processed\n",
    "df.to_csv('../data/processed/EPH_T423_filtrado_procesado.csv', index=False)\n",
    "\n",
    "print(\"✅ Dataset procesado guardado correctamente.\")\n"
   ]
  },
  {
   "cell_type": "code",
   "execution_count": null,
   "id": "c342ffcc-39e7-4459-8c80-f7ebf907affe",
   "metadata": {},
   "outputs": [],
   "source": []
  }
 ],
 "metadata": {
  "kernelspec": {
   "display_name": "Python 3 (ipykernel)",
   "language": "python",
   "name": "python3"
  },
  "language_info": {
   "codemirror_mode": {
    "name": "ipython",
    "version": 3
   },
   "file_extension": ".py",
   "mimetype": "text/x-python",
   "name": "python",
   "nbconvert_exporter": "python",
   "pygments_lexer": "ipython3",
   "version": "3.12.7"
  }
 },
 "nbformat": 4,
 "nbformat_minor": 5
}
