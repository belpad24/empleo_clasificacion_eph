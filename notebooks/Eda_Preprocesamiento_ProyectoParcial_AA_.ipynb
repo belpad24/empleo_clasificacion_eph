{
 "cells": [
  {
   "cell_type": "markdown",
   "id": "55b0ddb7-75c8-4d8c-ac99-19984a7023ef",
   "metadata": {
    "id": "55b0ddb7-75c8-4d8c-ac99-19984a7023ef"
   },
   "source": [
    "#  PASO 1: Carga, ETL y Exploración"
   ]
  },
  {
   "cell_type": "markdown",
   "id": "2af6de85-5301-424d-8a0f-ef342a355a1c",
   "metadata": {
    "id": "2af6de85-5301-424d-8a0f-ef342a355a1c"
   },
   "source": [
    "🔹 Celda 1: Carga del archivo original"
   ]
  },
  {
   "cell_type": "markdown",
   "id": "d1b218b9-0489-4009-9935-b013761081f3",
   "metadata": {
    "id": "d1b218b9-0489-4009-9935-b013761081f3"
   },
   "source": [
    "Esta celda carga el archivo original de la EPH (Encuesta Permanente de Hogares) desde la carpeta `data/raw`. Se utiliza el separador `;` porque el archivo está en formato `.txt` con ese formato. Se visualizan las primeras filas para verificar que la carga fue exitosa."
   ]
  },
  {
   "cell_type": "code",
   "execution_count": 7,
   "id": "6add492d-728e-4356-9775-45242960f9b4",
   "metadata": {
    "id": "6add492d-728e-4356-9775-45242960f9b4",
    "outputId": "89395c21-bc17-4dd5-ff77-724c10cd1222"
   },
   "outputs": [
    {
     "name": "stdout",
     "output_type": "stream",
     "text": [
      "✔️ Datos cargados correctamente.\n"
     ]
    },
    {
     "name": "stderr",
     "output_type": "stream",
     "text": [
      "C:\\Users\\Bel\\AppData\\Local\\Temp\\ipykernel_15120\\3525399822.py:10: UserWarning: Boolean Series key will be reindexed to match DataFrame index.\n",
      "  df = df_nuevo[df[\"ESTADO\"].isin([1, 2])].copy()\n"
     ]
    },
    {
     "data": {
      "text/html": [
       "<div>\n",
       "<style scoped>\n",
       "    .dataframe tbody tr th:only-of-type {\n",
       "        vertical-align: middle;\n",
       "    }\n",
       "\n",
       "    .dataframe tbody tr th {\n",
       "        vertical-align: top;\n",
       "    }\n",
       "\n",
       "    .dataframe thead th {\n",
       "        text-align: right;\n",
       "    }\n",
       "</style>\n",
       "<table border=\"1\" class=\"dataframe\">\n",
       "  <thead>\n",
       "    <tr style=\"text-align: right;\">\n",
       "      <th></th>\n",
       "      <th>CODUSU</th>\n",
       "      <th>ANO4</th>\n",
       "      <th>TRIMESTRE</th>\n",
       "      <th>NRO_HOGAR</th>\n",
       "      <th>COMPONENTE</th>\n",
       "      <th>H15</th>\n",
       "      <th>REGION</th>\n",
       "      <th>MAS_500</th>\n",
       "      <th>AGLOMERADO</th>\n",
       "      <th>PONDERA</th>\n",
       "      <th>...</th>\n",
       "      <th>ADECIFR</th>\n",
       "      <th>IPCF</th>\n",
       "      <th>DECCFR</th>\n",
       "      <th>IDECCFR</th>\n",
       "      <th>RDECCFR</th>\n",
       "      <th>GDECCFR</th>\n",
       "      <th>PDECCFR</th>\n",
       "      <th>ADECCFR</th>\n",
       "      <th>PONDIH</th>\n",
       "      <th>empleado</th>\n",
       "    </tr>\n",
       "  </thead>\n",
       "  <tbody>\n",
       "    <tr>\n",
       "      <th>0</th>\n",
       "      <td>TQRMNOSUWHLMKQCDEFNFF00852219</td>\n",
       "      <td>2023</td>\n",
       "      <td>4</td>\n",
       "      <td>1</td>\n",
       "      <td>1</td>\n",
       "      <td>1</td>\n",
       "      <td>41</td>\n",
       "      <td>N</td>\n",
       "      <td>7</td>\n",
       "      <td>370</td>\n",
       "      <td>...</td>\n",
       "      <td>12</td>\n",
       "      <td>0</td>\n",
       "      <td>12</td>\n",
       "      <td>12.0</td>\n",
       "      <td>12</td>\n",
       "      <td>NaN</td>\n",
       "      <td>12.0</td>\n",
       "      <td>12</td>\n",
       "      <td>0</td>\n",
       "      <td>1</td>\n",
       "    </tr>\n",
       "    <tr>\n",
       "      <th>2</th>\n",
       "      <td>TQRMNOTXQHKOLMCDEGNFJ00794590</td>\n",
       "      <td>2023</td>\n",
       "      <td>4</td>\n",
       "      <td>1</td>\n",
       "      <td>1</td>\n",
       "      <td>1</td>\n",
       "      <td>44</td>\n",
       "      <td>N</td>\n",
       "      <td>17</td>\n",
       "      <td>281</td>\n",
       "      <td>...</td>\n",
       "      <td>7</td>\n",
       "      <td>216666,67</td>\n",
       "      <td>8</td>\n",
       "      <td>8.0</td>\n",
       "      <td>7</td>\n",
       "      <td>NaN</td>\n",
       "      <td>8.0</td>\n",
       "      <td>6</td>\n",
       "      <td>387</td>\n",
       "      <td>1</td>\n",
       "    </tr>\n",
       "    <tr>\n",
       "      <th>3</th>\n",
       "      <td>TQRMNOTXQHKOLMCDEGNFJ00794590</td>\n",
       "      <td>2023</td>\n",
       "      <td>4</td>\n",
       "      <td>1</td>\n",
       "      <td>2</td>\n",
       "      <td>1</td>\n",
       "      <td>44</td>\n",
       "      <td>N</td>\n",
       "      <td>17</td>\n",
       "      <td>281</td>\n",
       "      <td>...</td>\n",
       "      <td>7</td>\n",
       "      <td>216666,67</td>\n",
       "      <td>8</td>\n",
       "      <td>8.0</td>\n",
       "      <td>7</td>\n",
       "      <td>NaN</td>\n",
       "      <td>8.0</td>\n",
       "      <td>6</td>\n",
       "      <td>387</td>\n",
       "      <td>1</td>\n",
       "    </tr>\n",
       "    <tr>\n",
       "      <th>6</th>\n",
       "      <td>TQRMNORVYHJMLPCDEGNFJ00794591</td>\n",
       "      <td>2023</td>\n",
       "      <td>4</td>\n",
       "      <td>1</td>\n",
       "      <td>3</td>\n",
       "      <td>1</td>\n",
       "      <td>44</td>\n",
       "      <td>N</td>\n",
       "      <td>17</td>\n",
       "      <td>165</td>\n",
       "      <td>...</td>\n",
       "      <td>12</td>\n",
       "      <td>0</td>\n",
       "      <td>12</td>\n",
       "      <td>12.0</td>\n",
       "      <td>12</td>\n",
       "      <td>NaN</td>\n",
       "      <td>12.0</td>\n",
       "      <td>12</td>\n",
       "      <td>0</td>\n",
       "      <td>1</td>\n",
       "    </tr>\n",
       "    <tr>\n",
       "      <th>9</th>\n",
       "      <td>TQRMNOQVSHKMKPCDEOJAH00793041</td>\n",
       "      <td>2023</td>\n",
       "      <td>4</td>\n",
       "      <td>1</td>\n",
       "      <td>1</td>\n",
       "      <td>1</td>\n",
       "      <td>44</td>\n",
       "      <td>N</td>\n",
       "      <td>93</td>\n",
       "      <td>85</td>\n",
       "      <td>...</td>\n",
       "      <td>6</td>\n",
       "      <td>200000</td>\n",
       "      <td>7</td>\n",
       "      <td>8.0</td>\n",
       "      <td>6</td>\n",
       "      <td>NaN</td>\n",
       "      <td>8.0</td>\n",
       "      <td>7</td>\n",
       "      <td>97</td>\n",
       "      <td>1</td>\n",
       "    </tr>\n",
       "  </tbody>\n",
       "</table>\n",
       "<p>5 rows × 178 columns</p>\n",
       "</div>"
      ],
      "text/plain": [
       "                          CODUSU  ANO4  TRIMESTRE  NRO_HOGAR  COMPONENTE  H15  \\\n",
       "0  TQRMNOSUWHLMKQCDEFNFF00852219  2023          4          1           1    1   \n",
       "2  TQRMNOTXQHKOLMCDEGNFJ00794590  2023          4          1           1    1   \n",
       "3  TQRMNOTXQHKOLMCDEGNFJ00794590  2023          4          1           2    1   \n",
       "6  TQRMNORVYHJMLPCDEGNFJ00794591  2023          4          1           3    1   \n",
       "9  TQRMNOQVSHKMKPCDEOJAH00793041  2023          4          1           1    1   \n",
       "\n",
       "   REGION MAS_500  AGLOMERADO  PONDERA  ...  ADECIFR       IPCF DECCFR  \\\n",
       "0      41       N           7      370  ...       12          0     12   \n",
       "2      44       N          17      281  ...        7  216666,67      8   \n",
       "3      44       N          17      281  ...        7  216666,67      8   \n",
       "6      44       N          17      165  ...       12          0     12   \n",
       "9      44       N          93       85  ...        6     200000      7   \n",
       "\n",
       "   IDECCFR  RDECCFR  GDECCFR  PDECCFR  ADECCFR  PONDIH  empleado  \n",
       "0     12.0       12      NaN     12.0       12       0         1  \n",
       "2      8.0        7      NaN      8.0        6     387         1  \n",
       "3      8.0        7      NaN      8.0        6     387         1  \n",
       "6     12.0       12      NaN     12.0       12       0         1  \n",
       "9      8.0        6      NaN      8.0        7      97         1  \n",
       "\n",
       "[5 rows x 178 columns]"
      ]
     },
     "execution_count": 7,
     "metadata": {},
     "output_type": "execute_result"
    }
   ],
   "source": [
    "import pandas as pd\n",
    "\n",
    "# Cambiá el nombre del archivo si usás otro\n",
    "ruta = '../data/raw/usu_individual_T423.txt'\n",
    "\n",
    "# Cargar archivo\n",
    "df = pd.read_csv(ruta_nueva, sep=\";\", encoding=\"latin1\", low_memory=False)\n",
    "\n",
    "# Filtrar solo ocupados y desocupados\n",
    "df = df_nuevo[df[\"ESTADO\"].isin([1, 2])].copy()\n",
    "df_nuevo[\"empleado\"] = df_nuevo[\"ESTADO\"].apply(lambda x: 1 if x == 1 else 0)\n",
    "\n",
    "print(\"✔️ Datos cargados correctamente.\")\n",
    "df_nuevo.head()"
   ]
  },
  {
   "cell_type": "markdown",
   "id": "0027f516-9388-46b6-ba30-71d834516cfa",
   "metadata": {
    "id": "0027f516-9388-46b6-ba30-71d834516cfa"
   },
   "source": [
    "🔹 Celda 2: Renombrar columnas para vista simplificada"
   ]
  },
  {
   "cell_type": "markdown",
   "id": "4d4a7821-8045-49e0-a752-43c9b44548f9",
   "metadata": {
    "id": "4d4a7821-8045-49e0-a752-43c9b44548f9"
   },
   "source": [
    "Aquí se renombran algunas columnas para facilitar la lectura del dataset. Por ejemplo, `CH04` se convierte en `sexo`, y `CH06` en `edad`. Esto no afecta el resto del código, ya que se usa solo para visualizar una tabla más comprensible en esta etapa inicial."
   ]
  },
  {
   "cell_type": "code",
   "execution_count": 8,
   "id": "50ce21d9-2881-4604-a343-258ccf6e122e",
   "metadata": {
    "id": "50ce21d9-2881-4604-a343-258ccf6e122e",
    "outputId": "7ea3ed1a-c923-49d8-dfe8-64420bf9a38a"
   },
   "outputs": [
    {
     "data": {
      "text/html": [
       "<div>\n",
       "<style scoped>\n",
       "    .dataframe tbody tr th:only-of-type {\n",
       "        vertical-align: middle;\n",
       "    }\n",
       "\n",
       "    .dataframe tbody tr th {\n",
       "        vertical-align: top;\n",
       "    }\n",
       "\n",
       "    .dataframe thead th {\n",
       "        text-align: right;\n",
       "    }\n",
       "</style>\n",
       "<table border=\"1\" class=\"dataframe\">\n",
       "  <thead>\n",
       "    <tr style=\"text-align: right;\">\n",
       "      <th></th>\n",
       "      <th>sexo</th>\n",
       "      <th>edad</th>\n",
       "      <th>estado_laboral</th>\n",
       "      <th>nivel_educativo</th>\n",
       "      <th>aglomerado</th>\n",
       "    </tr>\n",
       "  </thead>\n",
       "  <tbody>\n",
       "    <tr>\n",
       "      <th>0</th>\n",
       "      <td>1</td>\n",
       "      <td>60</td>\n",
       "      <td>1</td>\n",
       "      <td>2</td>\n",
       "      <td>7</td>\n",
       "    </tr>\n",
       "    <tr>\n",
       "      <th>2</th>\n",
       "      <td>1</td>\n",
       "      <td>34</td>\n",
       "      <td>1</td>\n",
       "      <td>2</td>\n",
       "      <td>17</td>\n",
       "    </tr>\n",
       "    <tr>\n",
       "      <th>3</th>\n",
       "      <td>2</td>\n",
       "      <td>32</td>\n",
       "      <td>1</td>\n",
       "      <td>2</td>\n",
       "      <td>17</td>\n",
       "    </tr>\n",
       "    <tr>\n",
       "      <th>6</th>\n",
       "      <td>2</td>\n",
       "      <td>43</td>\n",
       "      <td>1</td>\n",
       "      <td>2</td>\n",
       "      <td>17</td>\n",
       "    </tr>\n",
       "    <tr>\n",
       "      <th>9</th>\n",
       "      <td>1</td>\n",
       "      <td>47</td>\n",
       "      <td>1</td>\n",
       "      <td>2</td>\n",
       "      <td>93</td>\n",
       "    </tr>\n",
       "  </tbody>\n",
       "</table>\n",
       "</div>"
      ],
      "text/plain": [
       "   sexo  edad  estado_laboral  nivel_educativo  aglomerado\n",
       "0     1    60               1                2           7\n",
       "2     1    34               1                2          17\n",
       "3     2    32               1                2          17\n",
       "6     2    43               1                2          17\n",
       "9     1    47               1                2          93"
      ]
     },
     "execution_count": 8,
     "metadata": {},
     "output_type": "execute_result"
    }
   ],
   "source": [
    "# Crear una vista con algunas columnas y nombres más legibles para exploración\n",
    "df_renombrado = df_nuevo.rename(columns={\n",
    "    \"CH04\": \"sexo\",\n",
    "    \"CH06\": \"edad\",\n",
    "    \"ESTADO\": \"estado_laboral\",\n",
    "    \"CH10\": \"nivel_educativo\",\n",
    "    \"AGLOMERADO\": \"aglomerado\"})\n",
    "\n",
    "# Mostrar primeras filas\n",
    "df_renombrado[[\"sexo\", \"edad\", \"estado_laboral\", \"nivel_educativo\", \"aglomerado\"]].head()\n"
   ]
  },
  {
   "cell_type": "markdown",
   "id": "156deef9-e5a8-47a9-bac5-5f6007d14bff",
   "metadata": {
    "id": "156deef9-e5a8-47a9-bac5-5f6007d14bff"
   },
   "source": [
    "🔹 Celda 3: ETL – Filtrado de empleados y desempleados"
   ]
  },
  {
   "cell_type": "markdown",
   "id": "2220be08-ddfa-413b-82dc-0046ba0a50b2",
   "metadata": {
    "id": "2220be08-ddfa-413b-82dc-0046ba0a50b2"
   },
   "source": [
    "En esta celda se filtran únicamente las personas que están ocupadas (`ESTADO = 1`) o desocupadas (`ESTADO = 2`). Se crea una nueva variable llamada `empleado`, que toma el valor 1 para personas ocupadas y 0 para desocupadas. Esto simplifica la tarea de clasificación para los modelos posteriores."
   ]
  },
  {
   "cell_type": "code",
   "execution_count": 9,
   "id": "0c84c718-52a7-486b-baa8-d2d9de1b3c53",
   "metadata": {
    "id": "0c84c718-52a7-486b-baa8-d2d9de1b3c53",
    "outputId": "8d6bb65a-83d1-4303-c9fb-9adf826c9c81"
   },
   "outputs": [
    {
     "name": "stdout",
     "output_type": "stream",
     "text": [
      "✔️ Filtrados empleados y desempleados.\n"
     ]
    },
    {
     "data": {
      "text/plain": [
       "empleado\n",
       "Empleado       21312\n",
       "Desempleado     1055\n",
       "Name: count, dtype: int64"
      ]
     },
     "execution_count": 9,
     "metadata": {},
     "output_type": "execute_result"
    }
   ],
   "source": [
    "# Filtrar solo ocupados y desocupados\n",
    "df = df[df[\"ESTADO\"].isin([1, 2])].copy()\n",
    "df[\"empleado\"] = df[\"ESTADO\"].apply(lambda x: 1 if x == 1 else 0)\n",
    "print(\"✔️ Filtrados empleados y desempleados.\")\n",
    "df[\"empleado\"].value_counts().rename(index={0: \"Desempleado\", 1: \"Empleado\"})\n"
   ]
  },
  {
   "cell_type": "markdown",
   "id": "9add9186-bdce-4098-8e25-73c4a43ffe8b",
   "metadata": {
    "id": "9add9186-bdce-4098-8e25-73c4a43ffe8b"
   },
   "source": [
    "🔹 Celda 4: Exploración – Gráficos iniciales"
   ]
  },
  {
   "cell_type": "markdown",
   "id": "5ee7a45c",
   "metadata": {
    "id": "5ee7a45c"
   },
   "source": [
    "Este gráfico permite observar cómo se distribuyen las edades según si las personas están empleadas o desempleadas.\n",
    "Es útil para detectar diferencias visibles entre los grupos y tener un primer acercamiento a los patrones que podrían\n",
    "ayudar al modelo a predecir la condición laboral."
   ]
  },
  {
   "cell_type": "code",
   "execution_count": 10,
   "id": "81cc25dd-0ac4-4c7b-aebf-e2e852389392",
   "metadata": {
    "id": "81cc25dd-0ac4-4c7b-aebf-e2e852389392",
    "outputId": "e47a0600-ee61-4afb-9ea0-ce6fe8e5fede"
   },
   "outputs": [
    {
     "data": {
      "image/png": "[encoded data removed]",
      "text/plain": [
       "<Figure size 800x500 with 1 Axes>"
      ]
     },
     "metadata": {},
     "output_type": "display_data"
    }
   ],
   "source": [
    "import matplotlib.pyplot as plt\n",
    "import seaborn as sns\n",
    "\n",
    "# Distribución de edad por condición laboral\n",
    "plt.figure(figsize=(8, 5))\n",
    "sns.histplot(data=df, x=\"CH06\", hue=\"empleado\", bins=30, kde=True, palette=\"Set2\")\n",
    "plt.title(\"Distribución de edades por condición laboral\")\n",
    "plt.xlabel(\"Edad\")\n",
    "plt.ylabel(\"Cantidad de personas\")\n",
    "plt.legend(title=\"Empleado\", labels=[\"Desempleado\", \"Empleado\"])\n",
    "plt.show()\n"
   ]
  },
  {
   "cell_type": "markdown",
   "id": "33699a55-fad6-4878-a8f2-858c785647d9",
   "metadata": {
    "id": "33699a55-fad6-4878-a8f2-858c785647d9"
   },
   "source": [
    "# PASO 2: Selección, transformación y guardado"
   ]
  },
  {
   "cell_type": "markdown",
   "id": "4f25ee28-94e4-4d8f-8747-5b54f044644f",
   "metadata": {
    "id": "4f25ee28-94e4-4d8f-8747-5b54f044644f"
   },
   "source": [
    "🔹 Celda 5: Selección de variables y preprocesamiento"
   ]
  },
  {
   "cell_type": "markdown",
   "id": "e27838ff-34b6-4fc2-9e19-910a122c163e",
   "metadata": {
    "id": "e27838ff-34b6-4fc2-9e19-910a122c163e"
   },
   "source": [
    "Se seleccionan las variables que se usarán como predictoras y se identifican como numéricas o categóricas. Luego se imputan (rellenan) los valores faltantes. Para las numéricas se usa la mediana, y para las categóricas se usa la categoría más frecuente. Esto permite mantener la mayor cantidad de datos sin eliminar filas."
   ]
  },
  {
   "cell_type": "code",
   "execution_count": 11,
   "id": "87580086-895f-4492-99dc-40bec5ebd1c6",
   "metadata": {
    "id": "87580086-895f-4492-99dc-40bec5ebd1c6"
   },
   "outputs": [],
   "source": [
    "from sklearn.impute import SimpleImputer\n",
    "from sklearn.preprocessing import StandardScaler\n",
    "\n",
    "# Variables seleccionadas\n",
    "columnas = ['CH04', 'CH06', 'CH10', 'CH15_COD', 'AGLOMERADO',\n",
    "            'PP04B_COD', 'PP07H', 'PP07K', 'ITF', 'empleado']\n",
    "\n",
    "df_modelo = df[columnas].copy()\n",
    "\n",
    "# Identificar variables\n",
    "vars_numericas = ['CH06', 'PP07H', 'ITF']\n",
    "vars_categoricas = ['CH04', 'CH10', 'CH15_COD', 'AGLOMERADO', 'PP04B_COD', 'PP07K']\n",
    "\n",
    "# Imputación\n",
    "imp_num = SimpleImputer(strategy='median')\n",
    "df_modelo[vars_numericas] = imp_num.fit_transform(df_modelo[vars_numericas])\n",
    "\n",
    "imp_cat = SimpleImputer(strategy='most_frequent')\n",
    "df_modelo[vars_categoricas] = imp_cat.fit_transform(df_modelo[vars_categoricas])\n"
   ]
  },
  {
   "cell_type": "markdown",
   "id": "0bdcfe47-f377-47b2-953e-799f9f540879",
   "metadata": {
    "id": "0bdcfe47-f377-47b2-953e-799f9f540879"
   },
   "source": [
    "🔹 Celda 6: Codificación y escalado"
   ]
  },
  {
   "cell_type": "markdown",
   "id": "2148a1f0-dcde-453f-bcd2-0be256ffac5b",
   "metadata": {
    "id": "2148a1f0-dcde-453f-bcd2-0be256ffac5b"
   },
   "source": [
    "Las variables categóricas se convierten en variables binarias (one-hot encoding) para que puedan ser utilizadas por los algoritmos de machine learning. Las variables numéricas se escalan (normalizan) para que todas tengan una magnitud comparable, lo cual mejora el rendimiento de ciertos modelos como la regresión logística."
   ]
  },
  {
   "cell_type": "code",
   "execution_count": 12,
   "id": "7f4860e4-0205-4444-a56e-3be1d0e937ca",
   "metadata": {
    "id": "7f4860e4-0205-4444-a56e-3be1d0e937ca"
   },
   "outputs": [],
   "source": [
    "# Codificación one-hot\n",
    "df_modelo = pd.get_dummies(df_modelo, columns=vars_categoricas, drop_first=True)\n",
    "\n",
    "# Escalado\n",
    "scaler = StandardScaler()\n",
    "df_modelo[vars_numericas] = scaler.fit_transform(df_modelo[vars_numericas])\n",
    "\n",
    "# Separar X e y\n",
    "X = df_modelo.drop(columns='empleado')\n",
    "y = df_modelo['empleado']\n"
   ]
  },
  {
   "cell_type": "markdown",
   "id": "2edccdc5-0cf1-4472-9678-bbe10c97eb27",
   "metadata": {
    "id": "2edccdc5-0cf1-4472-9678-bbe10c97eb27"
   },
   "source": [
    "🔹 Celda 7: Guardar archivo limpio"
   ]
  },
  {
   "cell_type": "markdown",
   "id": "18c82183-151f-4050-be45-7df0baef29c0",
   "metadata": {
    "id": "18c82183-151f-4050-be45-7df0baef29c0"
   },
   "source": [
    "Una vez que los datos están limpios, completos y listos para entrenar modelos, se guardan en un nuevo archivo llamado `datos_limpios.csv` dentro de la carpeta `data/processed`. Este archivo será utilizado en la siguiente notebook para entrenar y evaluar distintos modelos de predicción."
   ]
  },
  {
   "cell_type": "code",
   "execution_count": 14,
   "id": "cc513a95-0970-4ee8-9ec4-688985cb873f",
   "metadata": {
    "id": "cc513a95-0970-4ee8-9ec4-688985cb873f",
    "outputId": "d968a223-d4f9-46c0-fed9-fdb376eeb676"
   },
   "outputs": [
    {
     "name": "stdout",
     "output_type": "stream",
     "text": [
      "✔️ Archivo guardado en: ../data/processed/.txt\n"
     ]
    }
   ],
   "source": [
    "# Guardar archivo limpio en la ruta correcta\n",
    "ruta_salida = '../data/processed/.txt'\n",
    "df_export = X.copy()\n",
    "df_export['empleado'] = y\n",
    "df_export.to_csv(ruta_salida, index=False)\n",
    "print(\"✔️ Archivo guardado en:\", ruta_salida)\n"
   ]
  },
  {
   "cell_type": "markdown",
   "id": "2290747d-783f-44c3-bda4-3ed6e6d40a8d",
   "metadata": {
    "id": "2290747d-783f-44c3-bda4-3ed6e6d40a8d"
   },
   "source": []
  }
 ],
 "metadata": {
  "colab": {
   "provenance": []
  },
  "kernelspec": {
   "display_name": "Python 3 (ipykernel)",
   "language": "python",
   "name": "python3"
  },
  "language_info": {
   "codemirror_mode": {
    "name": "ipython",
    "version": 3
   },
   "file_extension": ".py",
   "mimetype": "text/x-python",
   "name": "python",
   "nbconvert_exporter": "python",
   "pygments_lexer": "ipython3",
   "version": "3.12.7"
  }
 },
 "nbformat": 4,
 "nbformat_minor": 5
}
